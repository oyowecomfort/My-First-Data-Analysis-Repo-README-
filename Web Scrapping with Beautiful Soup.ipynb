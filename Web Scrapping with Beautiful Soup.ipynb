{
 "cells": [
  {
   "cell_type": "code",
   "execution_count": 1,
   "id": "23e65ccd",
   "metadata": {},
   "outputs": [],
   "source": [
    "import requests\n",
    "from bs4 import BeautifulSoup\n",
    "import csv\n",
    "from itertools import zip_longest\n",
    "\n",
    "import pandas as pd"
   ]
  },
  {
   "cell_type": "markdown",
   "id": "e881a23f",
   "metadata": {},
   "source": [
    "In this project, wuzzuf employment search will be scrapped."
   ]
  },
  {
   "cell_type": "code",
   "execution_count": 2,
   "id": "836f8864",
   "metadata": {},
   "outputs": [],
   "source": [
    "# using requests to fetch the url\n",
    "result = requests.get(\"https://wuzzuf.net/search/jobs/?q=python&a=hpb\")"
   ]
  },
  {
   "cell_type": "code",
   "execution_count": 3,
   "id": "f7884b8b",
   "metadata": {},
   "outputs": [],
   "source": [
    "#saving the page content \n",
    "src = result.content"
   ]
  },
  {
   "cell_type": "code",
   "execution_count": 4,
   "id": "bcec8cb8",
   "metadata": {},
   "outputs": [],
   "source": [
    "#create the soup object\n",
    "soup = BeautifulSoup(src, 'lxml')"
   ]
  },
  {
   "cell_type": "code",
   "execution_count": 5,
   "id": "387bc740",
   "metadata": {},
   "outputs": [
    {
     "data": {
      "text/plain": [
       "'Job Search | WUZZUF'"
      ]
     },
     "execution_count": 5,
     "metadata": {},
     "output_type": "execute_result"
    }
   ],
   "source": [
    "soup.title.text"
   ]
  },
  {
   "cell_type": "markdown",
   "id": "3e9874c6",
   "metadata": {},
   "source": [
    "Finding on all the jobs "
   ]
  },
  {
   "cell_type": "code",
   "execution_count": 6,
   "id": "04d587f5",
   "metadata": {},
   "outputs": [
    {
     "data": {
      "text/plain": [
       "['Senior Python Developer',\n",
       " 'Python Developer',\n",
       " 'Python Developer',\n",
       " 'DAZU Pay - Python Developer (FinTech)',\n",
       " 'Python Developer',\n",
       " 'Senior ODDO/Python Developer',\n",
       " 'Senior Python Developer (Django - PHP)',\n",
       " 'Python Backend Developer',\n",
       " 'Python/Django Backend Developer',\n",
       " 'Senior odoo developer',\n",
       " 'Data Engineer',\n",
       " 'Senior System Administrator',\n",
       " 'AI Research Lead',\n",
       " 'Frappe Developer',\n",
       " 'AI Technical Team Lead (Computer Vision Focus & NLP)']"
      ]
     },
     "execution_count": 6,
     "metadata": {},
     "output_type": "execute_result"
    }
   ],
   "source": [
    "job_titles_lists = []\n",
    "job_titles = soup.find_all(\"h2\",{\"class\":\"css-m604qf\"} )\n",
    "for job_title in job_titles:\n",
    " job_titles_lists.append( job_title.find('a').text)\n",
    "\n",
    "job_titles_lists"
   ]
  },
  {
   "cell_type": "markdown",
   "id": "8121cb65",
   "metadata": {},
   "source": [
    "Finding all job links"
   ]
  },
  {
   "cell_type": "code",
   "execution_count": 7,
   "id": "09215263",
   "metadata": {},
   "outputs": [
    {
     "data": {
      "text/plain": [
       "['https://wuzzuf.net/jobs/p/yXXbYwFMdtpX-Senior-Python-Developer-Trufla-Cairo-Egypt',\n",
       " 'https://wuzzuf.net/jobs/p/fY1ghD7Eg2xO-Python-Developer-Cairo-Egypt',\n",
       " 'https://wuzzuf.net/jobs/p/wq5UbMGyWx5P-Python-Developer-TechJump-Alexandria-Egypt',\n",
       " 'https://wuzzuf.net/jobs/p/W0VYGNXflPIv-DAZU-Pay---Python-Developer-FinTech-Bright-Creations-Giza-Egypt',\n",
       " 'https://wuzzuf.net/jobs/p/JnCmxxy30En5-Python-Developer-Digizilla-Cairo-Egypt',\n",
       " 'https://wuzzuf.net/jobs/p/g7vCRL9tSAE2-Senior-ODDOPython-Developer-The-Address-Investments-for-Real-Estate-Consultancy-Cairo-Egypt',\n",
       " 'https://wuzzuf.net/jobs/p/iL54Am5UH2m6-Senior-Python-Developer-Django---PHP-Giza-Egypt',\n",
       " 'https://wuzzuf.net/jobs/p/cte48qC4DBsK-Python-Backend-Developer-Geek-Labs-Cairo-Egypt',\n",
       " 'https://wuzzuf.net/jobs/p/ypxcO09ZJ2k2-PythonDjango-Backend-Developer-mas-trading-Cairo-Egypt',\n",
       " 'https://wuzzuf.net/jobs/p/S05JaY6mVEBo-Senior-odoo-developer-ERP-Bank-Alexandria-Egypt',\n",
       " 'https://wuzzuf.net/jobs/p/jQVx15fwJIz1-Data-Engineer-BBI-Consultancy-Cairo-Egypt',\n",
       " 'https://wuzzuf.net/jobs/p/ehzd4R2Qvkt4-Senior-System-Administrator-TopLine-Cairo-Egypt',\n",
       " 'https://wuzzuf.net/jobs/p/T7yvkRVzZZUf-AI-Research-Lead-Nahdet-Misr-Publishing-Group-Giza-Egypt',\n",
       " 'https://wuzzuf.net/jobs/p/IsN4Un8ejBc0-Frappe-Developer-Smart-Solutions-Cairo-Egypt',\n",
       " 'https://wuzzuf.net/jobs/p/ZF3tACCcqxSi-AI-Technical-Team-Lead-Computer-Vision-Focus-NLP-Lumin-Giza-Egypt']"
      ]
     },
     "execution_count": 7,
     "metadata": {},
     "output_type": "execute_result"
    }
   ],
   "source": [
    "job_links=[]\n",
    "\n",
    "for job_title in job_titles:\n",
    " job_links.append(job_title.find(\"a\").attrs['href'])\n",
    "job_links"
   ]
  },
  {
   "cell_type": "code",
   "execution_count": 8,
   "id": "958fea2d",
   "metadata": {},
   "outputs": [
    {
     "data": {
      "text/plain": [
       "['Full TimeHybridExperienced · 4+ Yrs of Exp · IT/Software Development · APIs · Computer Science · Information Technology (IT) · Engineering · Python · Software Development · Software Engineering · SQL · REST',\n",
       " 'Full TimeOn-siteExperienced · 4 - 6 Yrs of Exp · IT/Software Development · Information Technology (IT) · Django · Computer Science · Software Development · Python · JavaScript · Engineering',\n",
       " 'Full TimeHybridExperienced · 1 - 4 Yrs of Exp · IT/Software Development · Engineering - Telecom/Technology · Computer Science · Engineering · Information Technology (IT) · Software Development · Python · Django',\n",
       " 'Full TimeFreelance / ProjectHybridEntry Level · 2+ Yrs of Exp · IT/Software Development · Engineering - Telecom/Technology · Python · Django · Flask · Python Scripting · Web Scraping · WWeb Scraping · CI · Computer Science',\n",
       " 'Full TimeOn-siteEntry Level · 0 - 3 Yrs of Exp · IT/Software Development · Engineering - Telecom/Technology · Computer Science · Django · Software Development · Python · Programming · JavaScript · Git · Flask',\n",
       " 'Full TimeHybridExperienced · 3 - 5 Yrs of Exp · IT/Software Development · Odoo · Odoo Development · Python',\n",
       " 'Full TimeHybridExperienced · 5+ Yrs of Exp · IT/Software Development · Engineering - Telecom/Technology · Python · Computer Science · Django · PHP · REST · Information Technology (IT) · Software Development · English',\n",
       " 'Full TimeOn-siteEntry Level · 2+ Yrs of Exp · IT/Software Development · Other · Computer Science · MEAN Stack · Backend developer · fullstack developer · Python · Web Development · WordPress',\n",
       " 'Full TimeRemoteExperienced · 3 - 5 Yrs of Exp · IT/Software Development · Engineering - Telecom/Technology · Django · Information Technology (IT) · backend · Programming · Python',\n",
       " 'Full TimeOn-siteExperienced · 3 - 6 Yrs of Exp · IT/Software Development · Development · Software Engineering · Python · JavaScript · XML · CSS · Computer Science · HTML · Software Development',\n",
       " 'Full TimeHybridExperienced · 3 - 7 Yrs of Exp · IT/Software Development · Analyst/Research · Engineering - Telecom/Technology · Computer Engineering · Computer Science · Data Mining · Database · Engineering · Ibm · Information Technology (IT)',\n",
       " 'Full TimeOn-siteExperienced · 3+ Yrs of Exp · Installation/Maintenance/Repair · IT/Software Development · Engineering - Telecom/Technology · Python · Maintenance · Information Technology (IT) · Engineering · Computer Science · Security · Linux',\n",
       " 'Full TimeHybridExperienced · 5 - 8 Yrs of Exp · IT/Software Development · Research · Computer Science · Intelligence · Python · TensorFlow · PyTorch',\n",
       " 'Full TimeOn-siteExperienced · 1 - 3 Yrs of Exp · IT/Software Development · Software Development · erpnext · frappe · JavaScript · Vue.js · Python · backend · HTML · CSS',\n",
       " 'Full TimeHybridManager · 4 - 7 Yrs of Exp · IT/Software Development · Artificial Intelligence (AI) · Team Leadership · Computer Science · Engineering · Software Development · TensorFlow · PyTorch · Python · Agile']"
      ]
     },
     "execution_count": 8,
     "metadata": {},
     "output_type": "execute_result"
    }
   ],
   "source": [
    "job_requirement_lists = []\n",
    "job_skills = soup.find_all(\"div\",{\"class\":\"css-y4udm8\"})\n",
    "for job_skill in job_skills:\n",
    " job_requirement_lists.append( job_skill.text)\n",
    "job_requirement_lists"
   ]
  },
  {
   "cell_type": "code",
   "execution_count": 9,
   "id": "3c504e14",
   "metadata": {},
   "outputs": [
    {
     "name": "stdout",
     "output_type": "stream",
     "text": [
      "['Trufla', 'Confidential', 'TechJump', 'Bright Creations', 'Digizilla', 'The Address Investments for Real Estate Consultancy', 'Confidential', 'Geek Labs', 'mas trading ', 'ERP-Bank', 'BBI-Consultancy', 'TopLine ', 'Nahdet Misr Publishing Group', 'Smart Solutions', 'Lumin']\n"
     ]
    }
   ],
   "source": [
    "company_links = soup.find_all('a', class_='css-17s97q8')\n",
    "\n",
    "company_names = []\n",
    "for link in company_links:\n",
    "    company_names.append(link.text.strip().split(' -')[0])\n",
    "print(company_names)"
   ]
  },
  {
   "cell_type": "code",
   "execution_count": 10,
   "id": "67ebbdbc",
   "metadata": {},
   "outputs": [
    {
     "data": {
      "text/plain": [
       "['Cairo, Egypt ',\n",
       " 'Cairo, Egypt ',\n",
       " 'Alexandria, Egypt ',\n",
       " 'Smart Village, Giza, Egypt ',\n",
       " 'Nasr City, Cairo, Egypt ',\n",
       " 'New Cairo, Cairo, Egypt ',\n",
       " 'Giza, Egypt ',\n",
       " 'Maadi, Cairo, Egypt ',\n",
       " 'Maadi, Cairo, Egypt ',\n",
       " 'Sidi Gaber, Alexandria, Egypt ',\n",
       " 'Nasr City, Cairo, Egypt ',\n",
       " 'Cairo, Egypt ',\n",
       " 'Mohandessin, Giza, Egypt ',\n",
       " 'Maadi, Cairo, Egypt ',\n",
       " 'Sheikh Zayed, Giza, Egypt ']"
      ]
     },
     "execution_count": 10,
     "metadata": {},
     "output_type": "execute_result"
    }
   ],
   "source": [
    "job_location = []\n",
    "localisations = soup.find_all(\"span\",{\"class\":\"css-5wys0k\"} )\n",
    "for localisation in localisations:\n",
    "    job_location.append(localisation.text)\n",
    "job_location"
   ]
  },
  {
   "cell_type": "code",
   "execution_count": 11,
   "id": "e35b8cd2",
   "metadata": {},
   "outputs": [
    {
     "name": "stdout",
     "output_type": "stream",
     "text": [
      "15 15 15 15\n"
     ]
    }
   ],
   "source": [
    "print(len(job_titles_lists),len(job_location),len(job_requirement_lists),len(company_names))"
   ]
  },
  {
   "cell_type": "code",
   "execution_count": 12,
   "id": "befd6f96",
   "metadata": {},
   "outputs": [],
   "source": [
    "data = {\"Job_title\":job_titles_lists,\n",
    "        \"Company_name\":company_names,\n",
    "        \"Job_localisation\":job_location,\n",
    "        \"Job_Requirements\":job_requirement_lists,\n",
    "        \"Job link\": job_links\n",
    "        }"
   ]
  },
  {
   "cell_type": "code",
   "execution_count": 13,
   "id": "d5042ce6",
   "metadata": {},
   "outputs": [],
   "source": [
    "df = pd.DataFrame(data)"
   ]
  },
  {
   "cell_type": "code",
   "execution_count": 14,
   "id": "ce92f5b0",
   "metadata": {},
   "outputs": [
    {
     "data": {
      "text/html": [
       "<div>\n",
       "<style scoped>\n",
       "    .dataframe tbody tr th:only-of-type {\n",
       "        vertical-align: middle;\n",
       "    }\n",
       "\n",
       "    .dataframe tbody tr th {\n",
       "        vertical-align: top;\n",
       "    }\n",
       "\n",
       "    .dataframe thead th {\n",
       "        text-align: right;\n",
       "    }\n",
       "</style>\n",
       "<table border=\"1\" class=\"dataframe\">\n",
       "  <thead>\n",
       "    <tr style=\"text-align: right;\">\n",
       "      <th></th>\n",
       "      <th>Job_title</th>\n",
       "      <th>Company_name</th>\n",
       "      <th>Job_localisation</th>\n",
       "      <th>Job_Requirements</th>\n",
       "      <th>Job link</th>\n",
       "    </tr>\n",
       "  </thead>\n",
       "  <tbody>\n",
       "    <tr>\n",
       "      <th>0</th>\n",
       "      <td>Senior Python Developer</td>\n",
       "      <td>Trufla</td>\n",
       "      <td>Cairo, Egypt</td>\n",
       "      <td>Full TimeHybridExperienced · 4+ Yrs of Exp · I...</td>\n",
       "      <td>https://wuzzuf.net/jobs/p/yXXbYwFMdtpX-Senior-...</td>\n",
       "    </tr>\n",
       "    <tr>\n",
       "      <th>1</th>\n",
       "      <td>Python Developer</td>\n",
       "      <td>Confidential</td>\n",
       "      <td>Cairo, Egypt</td>\n",
       "      <td>Full TimeOn-siteExperienced · 4 - 6 Yrs of Exp...</td>\n",
       "      <td>https://wuzzuf.net/jobs/p/fY1ghD7Eg2xO-Python-...</td>\n",
       "    </tr>\n",
       "    <tr>\n",
       "      <th>2</th>\n",
       "      <td>Python Developer</td>\n",
       "      <td>TechJump</td>\n",
       "      <td>Alexandria, Egypt</td>\n",
       "      <td>Full TimeHybridExperienced · 1 - 4 Yrs of Exp ...</td>\n",
       "      <td>https://wuzzuf.net/jobs/p/wq5UbMGyWx5P-Python-...</td>\n",
       "    </tr>\n",
       "    <tr>\n",
       "      <th>3</th>\n",
       "      <td>DAZU Pay - Python Developer (FinTech)</td>\n",
       "      <td>Bright Creations</td>\n",
       "      <td>Smart Village, Giza, Egypt</td>\n",
       "      <td>Full TimeFreelance / ProjectHybridEntry Level ...</td>\n",
       "      <td>https://wuzzuf.net/jobs/p/W0VYGNXflPIv-DAZU-Pa...</td>\n",
       "    </tr>\n",
       "    <tr>\n",
       "      <th>4</th>\n",
       "      <td>Python Developer</td>\n",
       "      <td>Digizilla</td>\n",
       "      <td>Nasr City, Cairo, Egypt</td>\n",
       "      <td>Full TimeOn-siteEntry Level · 0 - 3 Yrs of Exp...</td>\n",
       "      <td>https://wuzzuf.net/jobs/p/JnCmxxy30En5-Python-...</td>\n",
       "    </tr>\n",
       "    <tr>\n",
       "      <th>5</th>\n",
       "      <td>Senior ODDO/Python Developer</td>\n",
       "      <td>The Address Investments for Real Estate Consul...</td>\n",
       "      <td>New Cairo, Cairo, Egypt</td>\n",
       "      <td>Full TimeHybridExperienced · 3 - 5 Yrs of Exp ...</td>\n",
       "      <td>https://wuzzuf.net/jobs/p/g7vCRL9tSAE2-Senior-...</td>\n",
       "    </tr>\n",
       "    <tr>\n",
       "      <th>6</th>\n",
       "      <td>Senior Python Developer (Django - PHP)</td>\n",
       "      <td>Confidential</td>\n",
       "      <td>Giza, Egypt</td>\n",
       "      <td>Full TimeHybridExperienced · 5+ Yrs of Exp · I...</td>\n",
       "      <td>https://wuzzuf.net/jobs/p/iL54Am5UH2m6-Senior-...</td>\n",
       "    </tr>\n",
       "    <tr>\n",
       "      <th>7</th>\n",
       "      <td>Python Backend Developer</td>\n",
       "      <td>Geek Labs</td>\n",
       "      <td>Maadi, Cairo, Egypt</td>\n",
       "      <td>Full TimeOn-siteEntry Level · 2+ Yrs of Exp · ...</td>\n",
       "      <td>https://wuzzuf.net/jobs/p/cte48qC4DBsK-Python-...</td>\n",
       "    </tr>\n",
       "    <tr>\n",
       "      <th>8</th>\n",
       "      <td>Python/Django Backend Developer</td>\n",
       "      <td>mas trading</td>\n",
       "      <td>Maadi, Cairo, Egypt</td>\n",
       "      <td>Full TimeRemoteExperienced · 3 - 5 Yrs of Exp ...</td>\n",
       "      <td>https://wuzzuf.net/jobs/p/ypxcO09ZJ2k2-PythonD...</td>\n",
       "    </tr>\n",
       "    <tr>\n",
       "      <th>9</th>\n",
       "      <td>Senior odoo developer</td>\n",
       "      <td>ERP-Bank</td>\n",
       "      <td>Sidi Gaber, Alexandria, Egypt</td>\n",
       "      <td>Full TimeOn-siteExperienced · 3 - 6 Yrs of Exp...</td>\n",
       "      <td>https://wuzzuf.net/jobs/p/S05JaY6mVEBo-Senior-...</td>\n",
       "    </tr>\n",
       "    <tr>\n",
       "      <th>10</th>\n",
       "      <td>Data Engineer</td>\n",
       "      <td>BBI-Consultancy</td>\n",
       "      <td>Nasr City, Cairo, Egypt</td>\n",
       "      <td>Full TimeHybridExperienced · 3 - 7 Yrs of Exp ...</td>\n",
       "      <td>https://wuzzuf.net/jobs/p/jQVx15fwJIz1-Data-En...</td>\n",
       "    </tr>\n",
       "    <tr>\n",
       "      <th>11</th>\n",
       "      <td>Senior System Administrator</td>\n",
       "      <td>TopLine</td>\n",
       "      <td>Cairo, Egypt</td>\n",
       "      <td>Full TimeOn-siteExperienced · 3+ Yrs of Exp · ...</td>\n",
       "      <td>https://wuzzuf.net/jobs/p/ehzd4R2Qvkt4-Senior-...</td>\n",
       "    </tr>\n",
       "    <tr>\n",
       "      <th>12</th>\n",
       "      <td>AI Research Lead</td>\n",
       "      <td>Nahdet Misr Publishing Group</td>\n",
       "      <td>Mohandessin, Giza, Egypt</td>\n",
       "      <td>Full TimeHybridExperienced · 5 - 8 Yrs of Exp ...</td>\n",
       "      <td>https://wuzzuf.net/jobs/p/T7yvkRVzZZUf-AI-Rese...</td>\n",
       "    </tr>\n",
       "    <tr>\n",
       "      <th>13</th>\n",
       "      <td>Frappe Developer</td>\n",
       "      <td>Smart Solutions</td>\n",
       "      <td>Maadi, Cairo, Egypt</td>\n",
       "      <td>Full TimeOn-siteExperienced · 1 - 3 Yrs of Exp...</td>\n",
       "      <td>https://wuzzuf.net/jobs/p/IsN4Un8ejBc0-Frappe-...</td>\n",
       "    </tr>\n",
       "    <tr>\n",
       "      <th>14</th>\n",
       "      <td>AI Technical Team Lead (Computer Vision Focus ...</td>\n",
       "      <td>Lumin</td>\n",
       "      <td>Sheikh Zayed, Giza, Egypt</td>\n",
       "      <td>Full TimeHybridManager · 4 - 7 Yrs of Exp · IT...</td>\n",
       "      <td>https://wuzzuf.net/jobs/p/ZF3tACCcqxSi-AI-Tech...</td>\n",
       "    </tr>\n",
       "  </tbody>\n",
       "</table>\n",
       "</div>"
      ],
      "text/plain": [
       "                                            Job_title  \\\n",
       "0                             Senior Python Developer   \n",
       "1                                    Python Developer   \n",
       "2                                    Python Developer   \n",
       "3               DAZU Pay - Python Developer (FinTech)   \n",
       "4                                    Python Developer   \n",
       "5                        Senior ODDO/Python Developer   \n",
       "6              Senior Python Developer (Django - PHP)   \n",
       "7                            Python Backend Developer   \n",
       "8                     Python/Django Backend Developer   \n",
       "9                               Senior odoo developer   \n",
       "10                                      Data Engineer   \n",
       "11                        Senior System Administrator   \n",
       "12                                   AI Research Lead   \n",
       "13                                   Frappe Developer   \n",
       "14  AI Technical Team Lead (Computer Vision Focus ...   \n",
       "\n",
       "                                         Company_name  \\\n",
       "0                                              Trufla   \n",
       "1                                        Confidential   \n",
       "2                                            TechJump   \n",
       "3                                    Bright Creations   \n",
       "4                                           Digizilla   \n",
       "5   The Address Investments for Real Estate Consul...   \n",
       "6                                        Confidential   \n",
       "7                                           Geek Labs   \n",
       "8                                        mas trading    \n",
       "9                                            ERP-Bank   \n",
       "10                                    BBI-Consultancy   \n",
       "11                                           TopLine    \n",
       "12                       Nahdet Misr Publishing Group   \n",
       "13                                    Smart Solutions   \n",
       "14                                              Lumin   \n",
       "\n",
       "                  Job_localisation  \\\n",
       "0                    Cairo, Egypt    \n",
       "1                    Cairo, Egypt    \n",
       "2               Alexandria, Egypt    \n",
       "3      Smart Village, Giza, Egypt    \n",
       "4         Nasr City, Cairo, Egypt    \n",
       "5         New Cairo, Cairo, Egypt    \n",
       "6                     Giza, Egypt    \n",
       "7             Maadi, Cairo, Egypt    \n",
       "8             Maadi, Cairo, Egypt    \n",
       "9   Sidi Gaber, Alexandria, Egypt    \n",
       "10        Nasr City, Cairo, Egypt    \n",
       "11                   Cairo, Egypt    \n",
       "12       Mohandessin, Giza, Egypt    \n",
       "13            Maadi, Cairo, Egypt    \n",
       "14      Sheikh Zayed, Giza, Egypt    \n",
       "\n",
       "                                     Job_Requirements  \\\n",
       "0   Full TimeHybridExperienced · 4+ Yrs of Exp · I...   \n",
       "1   Full TimeOn-siteExperienced · 4 - 6 Yrs of Exp...   \n",
       "2   Full TimeHybridExperienced · 1 - 4 Yrs of Exp ...   \n",
       "3   Full TimeFreelance / ProjectHybridEntry Level ...   \n",
       "4   Full TimeOn-siteEntry Level · 0 - 3 Yrs of Exp...   \n",
       "5   Full TimeHybridExperienced · 3 - 5 Yrs of Exp ...   \n",
       "6   Full TimeHybridExperienced · 5+ Yrs of Exp · I...   \n",
       "7   Full TimeOn-siteEntry Level · 2+ Yrs of Exp · ...   \n",
       "8   Full TimeRemoteExperienced · 3 - 5 Yrs of Exp ...   \n",
       "9   Full TimeOn-siteExperienced · 3 - 6 Yrs of Exp...   \n",
       "10  Full TimeHybridExperienced · 3 - 7 Yrs of Exp ...   \n",
       "11  Full TimeOn-siteExperienced · 3+ Yrs of Exp · ...   \n",
       "12  Full TimeHybridExperienced · 5 - 8 Yrs of Exp ...   \n",
       "13  Full TimeOn-siteExperienced · 1 - 3 Yrs of Exp...   \n",
       "14  Full TimeHybridManager · 4 - 7 Yrs of Exp · IT...   \n",
       "\n",
       "                                             Job link  \n",
       "0   https://wuzzuf.net/jobs/p/yXXbYwFMdtpX-Senior-...  \n",
       "1   https://wuzzuf.net/jobs/p/fY1ghD7Eg2xO-Python-...  \n",
       "2   https://wuzzuf.net/jobs/p/wq5UbMGyWx5P-Python-...  \n",
       "3   https://wuzzuf.net/jobs/p/W0VYGNXflPIv-DAZU-Pa...  \n",
       "4   https://wuzzuf.net/jobs/p/JnCmxxy30En5-Python-...  \n",
       "5   https://wuzzuf.net/jobs/p/g7vCRL9tSAE2-Senior-...  \n",
       "6   https://wuzzuf.net/jobs/p/iL54Am5UH2m6-Senior-...  \n",
       "7   https://wuzzuf.net/jobs/p/cte48qC4DBsK-Python-...  \n",
       "8   https://wuzzuf.net/jobs/p/ypxcO09ZJ2k2-PythonD...  \n",
       "9   https://wuzzuf.net/jobs/p/S05JaY6mVEBo-Senior-...  \n",
       "10  https://wuzzuf.net/jobs/p/jQVx15fwJIz1-Data-En...  \n",
       "11  https://wuzzuf.net/jobs/p/ehzd4R2Qvkt4-Senior-...  \n",
       "12  https://wuzzuf.net/jobs/p/T7yvkRVzZZUf-AI-Rese...  \n",
       "13  https://wuzzuf.net/jobs/p/IsN4Un8ejBc0-Frappe-...  \n",
       "14  https://wuzzuf.net/jobs/p/ZF3tACCcqxSi-AI-Tech...  "
      ]
     },
     "execution_count": 14,
     "metadata": {},
     "output_type": "execute_result"
    }
   ],
   "source": [
    "df"
   ]
  },
  {
   "cell_type": "code",
   "execution_count": 15,
   "id": "45827a0f",
   "metadata": {},
   "outputs": [
    {
     "data": {
      "text/plain": [
       "(15, 5)"
      ]
     },
     "execution_count": 15,
     "metadata": {},
     "output_type": "execute_result"
    }
   ],
   "source": [
    "df.shape"
   ]
  },
  {
   "cell_type": "code",
   "execution_count": 16,
   "id": "77652275",
   "metadata": {},
   "outputs": [
    {
     "name": "stdout",
     "output_type": "stream",
     "text": [
      "<class 'pandas.core.frame.DataFrame'>\n",
      "RangeIndex: 15 entries, 0 to 14\n",
      "Data columns (total 5 columns):\n",
      " #   Column            Non-Null Count  Dtype \n",
      "---  ------            --------------  ----- \n",
      " 0   Job_title         15 non-null     object\n",
      " 1   Company_name      15 non-null     object\n",
      " 2   Job_localisation  15 non-null     object\n",
      " 3   Job_Requirements  15 non-null     object\n",
      " 4   Job link          15 non-null     object\n",
      "dtypes: object(5)\n",
      "memory usage: 728.0+ bytes\n"
     ]
    }
   ],
   "source": [
    "df.info()"
   ]
  },
  {
   "cell_type": "code",
   "execution_count": 17,
   "id": "17890972",
   "metadata": {},
   "outputs": [
    {
     "data": {
      "text/html": [
       "<div>\n",
       "<style scoped>\n",
       "    .dataframe tbody tr th:only-of-type {\n",
       "        vertical-align: middle;\n",
       "    }\n",
       "\n",
       "    .dataframe tbody tr th {\n",
       "        vertical-align: top;\n",
       "    }\n",
       "\n",
       "    .dataframe thead th {\n",
       "        text-align: right;\n",
       "    }\n",
       "</style>\n",
       "<table border=\"1\" class=\"dataframe\">\n",
       "  <thead>\n",
       "    <tr style=\"text-align: right;\">\n",
       "      <th></th>\n",
       "      <th>Job_title</th>\n",
       "      <th>Company_name</th>\n",
       "      <th>Job_localisation</th>\n",
       "      <th>Job_Requirements</th>\n",
       "      <th>Job link</th>\n",
       "    </tr>\n",
       "  </thead>\n",
       "  <tbody>\n",
       "    <tr>\n",
       "      <th>0</th>\n",
       "      <td>Senior Python Developer</td>\n",
       "      <td>Trufla</td>\n",
       "      <td>Cairo, Egypt</td>\n",
       "      <td>Full TimeHybridExperienced · 4+ Yrs of Exp · I...</td>\n",
       "      <td>https://wuzzuf.net/jobs/p/yXXbYwFMdtpX-Senior-...</td>\n",
       "    </tr>\n",
       "    <tr>\n",
       "      <th>1</th>\n",
       "      <td>Python Developer</td>\n",
       "      <td>Confidential</td>\n",
       "      <td>Cairo, Egypt</td>\n",
       "      <td>Full TimeOn-siteExperienced · 4 - 6 Yrs of Exp...</td>\n",
       "      <td>https://wuzzuf.net/jobs/p/fY1ghD7Eg2xO-Python-...</td>\n",
       "    </tr>\n",
       "    <tr>\n",
       "      <th>2</th>\n",
       "      <td>Python Developer</td>\n",
       "      <td>TechJump</td>\n",
       "      <td>Alexandria, Egypt</td>\n",
       "      <td>Full TimeHybridExperienced · 1 - 4 Yrs of Exp ...</td>\n",
       "      <td>https://wuzzuf.net/jobs/p/wq5UbMGyWx5P-Python-...</td>\n",
       "    </tr>\n",
       "    <tr>\n",
       "      <th>3</th>\n",
       "      <td>DAZU Pay - Python Developer (FinTech)</td>\n",
       "      <td>Bright Creations</td>\n",
       "      <td>Smart Village, Giza, Egypt</td>\n",
       "      <td>Full TimeFreelance / ProjectHybridEntry Level ...</td>\n",
       "      <td>https://wuzzuf.net/jobs/p/W0VYGNXflPIv-DAZU-Pa...</td>\n",
       "    </tr>\n",
       "    <tr>\n",
       "      <th>4</th>\n",
       "      <td>Python Developer</td>\n",
       "      <td>Digizilla</td>\n",
       "      <td>Nasr City, Cairo, Egypt</td>\n",
       "      <td>Full TimeOn-siteEntry Level · 0 - 3 Yrs of Exp...</td>\n",
       "      <td>https://wuzzuf.net/jobs/p/JnCmxxy30En5-Python-...</td>\n",
       "    </tr>\n",
       "  </tbody>\n",
       "</table>\n",
       "</div>"
      ],
      "text/plain": [
       "                               Job_title      Company_name  \\\n",
       "0                Senior Python Developer            Trufla   \n",
       "1                       Python Developer      Confidential   \n",
       "2                       Python Developer          TechJump   \n",
       "3  DAZU Pay - Python Developer (FinTech)  Bright Creations   \n",
       "4                       Python Developer         Digizilla   \n",
       "\n",
       "              Job_localisation  \\\n",
       "0                Cairo, Egypt    \n",
       "1                Cairo, Egypt    \n",
       "2           Alexandria, Egypt    \n",
       "3  Smart Village, Giza, Egypt    \n",
       "4     Nasr City, Cairo, Egypt    \n",
       "\n",
       "                                    Job_Requirements  \\\n",
       "0  Full TimeHybridExperienced · 4+ Yrs of Exp · I...   \n",
       "1  Full TimeOn-siteExperienced · 4 - 6 Yrs of Exp...   \n",
       "2  Full TimeHybridExperienced · 1 - 4 Yrs of Exp ...   \n",
       "3  Full TimeFreelance / ProjectHybridEntry Level ...   \n",
       "4  Full TimeOn-siteEntry Level · 0 - 3 Yrs of Exp...   \n",
       "\n",
       "                                            Job link  \n",
       "0  https://wuzzuf.net/jobs/p/yXXbYwFMdtpX-Senior-...  \n",
       "1  https://wuzzuf.net/jobs/p/fY1ghD7Eg2xO-Python-...  \n",
       "2  https://wuzzuf.net/jobs/p/wq5UbMGyWx5P-Python-...  \n",
       "3  https://wuzzuf.net/jobs/p/W0VYGNXflPIv-DAZU-Pa...  \n",
       "4  https://wuzzuf.net/jobs/p/JnCmxxy30En5-Python-...  "
      ]
     },
     "execution_count": 17,
     "metadata": {},
     "output_type": "execute_result"
    }
   ],
   "source": [
    "df.head()"
   ]
  },
  {
   "cell_type": "markdown",
   "id": "ea4c8831",
   "metadata": {},
   "source": [
    "Save the file to excel"
   ]
  },
  {
   "cell_type": "code",
   "execution_count": 18,
   "id": "d3b3592c",
   "metadata": {},
   "outputs": [],
   "source": [
    "df.to_excel(\"C:/Users/COMFORT/Desktop/company_names.xlsx\", index=False)\n"
   ]
  },
  {
   "cell_type": "code",
   "execution_count": null,
   "id": "69c80343",
   "metadata": {},
   "outputs": [],
   "source": []
  }
 ],
 "metadata": {
  "kernelspec": {
   "display_name": "Python 3 (ipykernel)",
   "language": "python",
   "name": "python3"
  },
  "language_info": {
   "codemirror_mode": {
    "name": "ipython",
    "version": 3
   },
   "file_extension": ".py",
   "mimetype": "text/x-python",
   "name": "python",
   "nbconvert_exporter": "python",
   "pygments_lexer": "ipython3",
   "version": "3.10.9"
  }
 },
 "nbformat": 4,
 "nbformat_minor": 5
}
